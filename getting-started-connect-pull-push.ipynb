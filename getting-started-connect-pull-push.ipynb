{
 "cells": [
  {
   "cell_type": "markdown",
   "metadata": {},
   "source": [
    "# Connecting to Celonis with celonis_cloud"
   ]
  },
  {
   "cell_type": "markdown",
   "metadata": {},
   "source": [
    "![title](img/workbench_logo.png)"
   ]
  },
  {
   "cell_type": "markdown",
   "metadata": {},
   "source": [
    "## Import packages"
   ]
  },
  {
   "cell_type": "markdown",
   "metadata": {},
   "source": [
    "A Python script usually starts by importing packages. These extend basic functions and can either be imported as global functions (you can call them directly) or as a package callable by the package name (or an acronym, e.g. `import pandas as pd`)."
   ]
  },
  {
   "cell_type": "code",
   "execution_count": null,
   "metadata": {},
   "outputs": [],
   "source": [
    "from celonis_cloud.api import CelonisSession\n",
    "from celonis_cloud.model import Analysis, DataModel, Pool, Process\n",
    "from celonis_cloud.query import Query, Dimension, KPI, BasicFilter\n",
    "import pandas as pd"
   ]
  },
  {
   "cell_type": "markdown",
   "metadata": {},
   "source": [
    "Running the cell above imports all the necessary packages, if there is a problem it will show and error as output. Next, we put the connection details and API key info we generated in Celonis in some variables."
   ]
  },
  {
   "cell_type": "markdown",
   "metadata": {},
   "source": [
    "## Connect to an Analysis"
   ]
  },
  {
   "cell_type": "code",
   "execution_count": null,
   "metadata": {},
   "outputs": [],
   "source": [
    "settings = {\n",
    "    'base_url' : 'ENTER URL HERE',\n",
    "    'api_token' : 'ENTER API TOKEN HERE',  \n",
    "}"
   ]
  },
  {
   "cell_type": "markdown",
   "metadata": {},
   "source": [
    "Since we used `from celonis_cloud.api import CelonisSession` we can now use this method to connect to Celonis and try to find an analysis. For this we will need an analysis id, which you can find in the url when opening an analysis in the browser (after `/analysis/`).\n",
    "It looks like this: `xx6x5xx9-505x-4012-xxxx-895xx991x899`"
   ]
  },
  {
   "cell_type": "code",
   "execution_count": null,
   "metadata": {},
   "outputs": [],
   "source": [
    "with CelonisSession(**settings) as session:\n",
    "    a = Analysis('ENTER ANALYSIS ID HERE')"
   ]
  },
  {
   "cell_type": "markdown",
   "metadata": {},
   "source": [
    "We can check what we got back by running the cell below."
   ]
  },
  {
   "cell_type": "code",
   "execution_count": null,
   "metadata": {},
   "outputs": [],
   "source": [
    "type(a)"
   ]
  },
  {
   "cell_type": "markdown",
   "metadata": {},
   "source": [
    "You can check which functions a variable has by pressing tab to autocomplete after typing `a.<tab>`. This only works when the variable `a` contains something. When you find the function you need you can check how to use it by pressing shift+tab within the parentheses."
   ]
  },
  {
   "cell_type": "markdown",
   "metadata": {},
   "source": [
    "## Pull process data\n",
    "Here we are going to grab a table from the Analysis. Check in Celonis Process Mining for the tablename of the table you want to access."
   ]
  },
  {
   "cell_type": "code",
   "execution_count": null,
   "metadata": {},
   "outputs": [],
   "source": [
    "table = a.draft.components.find('title','TABLENAME')[0]"
   ]
  },
  {
   "cell_type": "code",
   "execution_count": null,
   "metadata": {
    "scrolled": true
   },
   "outputs": [],
   "source": [
    "t = a.draft.components.find('title','TABLENAME').first()"
   ]
  },
  {
   "cell_type": "markdown",
   "metadata": {},
   "source": [
    "Let's pull in a table from the datamodel and put it into a Pandas DataFrame."
   ]
  },
  {
   "cell_type": "code",
   "execution_count": null,
   "metadata": {},
   "outputs": [],
   "source": [
    "df = a.execute_pql(t.get_query())"
   ]
  },
  {
   "cell_type": "markdown",
   "metadata": {},
   "source": [
    "Pull the dataframe"
   ]
  },
  {
   "cell_type": "code",
   "execution_count": null,
   "metadata": {},
   "outputs": [],
   "source": [
    "df = table.get_dataframe()"
   ]
  },
  {
   "cell_type": "markdown",
   "metadata": {},
   "source": [
    "Show the top of the dataframe"
   ]
  },
  {
   "cell_type": "code",
   "execution_count": null,
   "metadata": {},
   "outputs": [],
   "source": [
    "df.head()"
   ]
  },
  {
   "cell_type": "markdown",
   "metadata": {},
   "source": [
    "## Manipulate your process data\n",
    "Since this is just a dataframe, all respective methods of pandas apply."
   ]
  },
  {
   "cell_type": "markdown",
   "metadata": {},
   "source": [
    "## Push data to your Data Model"
   ]
  },
  {
   "cell_type": "markdown",
   "metadata": {},
   "source": [
    "Now we can push the new dataframe to Celonis as a new table."
   ]
  },
  {
   "cell_type": "code",
   "execution_count": null,
   "metadata": {
    "collapsed": true
   },
   "outputs": [],
   "source": [
    "data_for_ibc = df\n",
    "tablename = 'TABLE_NEW'\n",
    "with CelonisSession(**settings) as session:\n",
    "    a.datamodel.push_table(data_for_ibc,tablename,trigger_reload=False)\n",
    "    #manually add the foreign key and trigger a reload from cache"
   ]
  }
 ],
 "metadata": {
  "kernelspec": {
   "display_name": "Python 3",
   "language": "python",
   "name": "python3"
  },
  "language_info": {
   "codemirror_mode": {
    "name": "ipython",
    "version": 3
   },
   "file_extension": ".py",
   "mimetype": "text/x-python",
   "name": "python",
   "nbconvert_exporter": "python",
   "pygments_lexer": "ipython3",
   "version": "3.7.0"
  }
 },
 "nbformat": 4,
 "nbformat_minor": 2
}
